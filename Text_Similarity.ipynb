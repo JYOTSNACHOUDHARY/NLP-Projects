{
 "cells": [
  {
   "cell_type": "markdown",
   "id": "db25edb0",
   "metadata": {},
   "source": [
    "## Implement Text Similarity using Word Embeddings of Glove + Cosine Similarity"
   ]
  },
  {
   "cell_type": "code",
   "execution_count": 22,
   "id": "8d8d4dc9",
   "metadata": {},
   "outputs": [],
   "source": [
    "text1 = \"President greets the press in Chicago\"\n",
    "text2 = \"Obama speaks to media Illinois\""
   ]
  },
  {
   "cell_type": "code",
   "execution_count": 23,
   "id": "71ad8707",
   "metadata": {},
   "outputs": [],
   "source": [
    "#importing necessary packages\n",
    "import nltk\n",
    "import numpy as np\n",
    "from nltk.tokenize import word_tokenize\n",
    "from sklearn.metrics.pairwise import cosine_similarity\n",
    "import matplotlib.pyplot as plt\n",
    "#nltk.download(\"stopwords\")\n",
    "\n",
    "#pre-trained word embedding Glove Model\n",
    "embedding_path = r\"D:\\Study_notebooks\\NLP\\pretrained_models\\glove.6B\\glove.6B.50d.txt\""
   ]
  },
  {
   "cell_type": "code",
   "execution_count": 24,
   "id": "57304f5e",
   "metadata": {},
   "outputs": [],
   "source": [
    "def tokenize_text(text):\n",
    "    tokens = word_tokenize(text)\n",
    "    return tokens\n",
    "\n",
    "def remove_stop_words(tokens):\n",
    "    stopwords = nltk.corpus.stopwords.words(\"english\")\n",
    "    tokens_without_stopwords = [word.lower() for word in tokens if word not in stopwords]\n",
    "    return tokens_without_stopwords"
   ]
  },
  {
   "cell_type": "code",
   "execution_count": 25,
   "id": "47485f16",
   "metadata": {},
   "outputs": [],
   "source": [
    "text1_tokens = remove_stop_words(tokenize_text(text1))\n",
    "text2_tokens = remove_stop_words(tokenize_text(text2))\n",
    "\n"
   ]
  },
  {
   "cell_type": "code",
   "execution_count": 26,
   "id": "38a7407b",
   "metadata": {},
   "outputs": [
    {
     "data": {
      "text/plain": [
       "['president', 'greets', 'press', 'chicago']"
      ]
     },
     "execution_count": 26,
     "metadata": {},
     "output_type": "execute_result"
    }
   ],
   "source": [
    "text1_tokens"
   ]
  },
  {
   "cell_type": "code",
   "execution_count": 27,
   "id": "671c251e",
   "metadata": {},
   "outputs": [
    {
     "data": {
      "text/plain": [
       "['obama', 'speaks', 'media', 'illinois']"
      ]
     },
     "execution_count": 27,
     "metadata": {},
     "output_type": "execute_result"
    }
   ],
   "source": [
    "text2_tokens"
   ]
  },
  {
   "cell_type": "code",
   "execution_count": 28,
   "id": "15e4202d",
   "metadata": {},
   "outputs": [],
   "source": [
    "def load_glove_embeddings(embeddings_path):\n",
    "    embeddings_index = {}\n",
    "    with open(embeddings_path, 'r', encoding='utf-8') as file:\n",
    "        for line in file:\n",
    "            values = line.split()\n",
    "            word = values[0]\n",
    "            coefficients = np.asarray(values[1:], dtype='float32')\n",
    "            embeddings_index[word] = coefficients\n",
    "    return embeddings_index"
   ]
  },
  {
   "cell_type": "markdown",
   "id": "ea8ead43",
   "metadata": {},
   "source": [
    "We can load the glove embeddings using above function. where in each line we have first word (values[0]) as the word following by it's embedding vector"
   ]
  },
  {
   "cell_type": "code",
   "execution_count": 8,
   "id": "8e26e37d",
   "metadata": {},
   "outputs": [
    {
     "name": "stdout",
     "output_type": "stream",
     "text": [
      "Word vector for 'insanely': [ 0.32575  -0.7108   -0.14064  -0.55279  -0.54043   0.10792   0.80933\n",
      "  0.13154  -0.51524   1.4908   -0.69343   0.48552  -0.11583   0.18464\n",
      " -0.2386   -0.24543   0.4658    1.5631    0.74832  -0.19505  -0.54348\n",
      " -0.037962 -0.22807   1.0095    1.2854   -0.42222  -0.44433   0.63587\n",
      "  0.66522   0.3367    0.20846  -0.12542   1.4839    0.74024  -0.081622\n",
      "  0.045189 -0.35995   0.66447  -1.2046   -0.55015  -0.10035   0.088914\n",
      " -0.43324   0.82637   0.6313   -0.10488  -0.30551  -0.606     0.27067\n",
      "  0.56091 ]\n"
     ]
    }
   ],
   "source": [
    "word_embeddings = load_glove_embeddings(embedding_path)\n",
    "\n",
    "#testing the function\n",
    "word = 'insanely'\n",
    "embedding_vector = word_embeddings.get(word)\n",
    "if embedding_vector is not None:\n",
    "    # Word vector exists in the embeddings\n",
    "    print(f\"Word vector for '{word}': {embedding_vector}\")\n",
    "else:\n",
    "    # Word vector doesn't exist in the embeddings\n",
    "    print(f\"No word vector found for '{word}'\")"
   ]
  },
  {
   "cell_type": "code",
   "execution_count": 29,
   "id": "05471dbe",
   "metadata": {},
   "outputs": [],
   "source": [
    "#Let's now find the embedding for the two above sentences by averaging the vectors of each word present in sentence(after preprocessing)\n",
    "\n",
    "def find_sentence_vector(vectors_list):\n",
    "    vector = np.mean(vectors_list,axis=0)\n",
    "    return vector\n",
    "    \n",
    "def create_list_of_vectors(tokens):\n",
    "    vectors_list = []\n",
    "   \n",
    "    for token in tokens:\n",
    "        embedding_vector = word_embeddings.get(token)\n",
    "        if embedding_vector is not None:\n",
    "            # Word vector exists in the embeddings\n",
    "            vectors_list.append(embedding_vector)\n",
    "\n",
    "        else:\n",
    "            # Word vector doesn't exist in the embeddings\n",
    "            print(f\"No word vector found for '{token}'\")\n",
    "    return vectors_list\n",
    "    "
   ]
  },
  {
   "cell_type": "code",
   "execution_count": 30,
   "id": "e9bf92d5",
   "metadata": {},
   "outputs": [],
   "source": [
    "sent_vector_1 = find_sentence_vector(create_list_of_vectors(text1_tokens))\n",
    "sent_vector_2 = find_sentence_vector(create_list_of_vectors(text2_tokens))"
   ]
  },
  {
   "cell_type": "code",
   "execution_count": 31,
   "id": "e9b631df",
   "metadata": {},
   "outputs": [],
   "source": [
    "#Calculate the cosine similarity of the two sentences\n",
    "def calculate_cosine_similarity(embedding1, embedding2):\n",
    "    if embedding1 is not None and embedding2 is not None:\n",
    "        similarity = cosine_similarity([embedding1], [embedding2])[0][0]\n",
    "        return similarity\n",
    "    else:\n",
    "        return None"
   ]
  },
  {
   "cell_type": "code",
   "execution_count": 32,
   "id": "239613fa",
   "metadata": {},
   "outputs": [
    {
     "data": {
      "text/plain": [
       "0.8124777"
      ]
     },
     "execution_count": 32,
     "metadata": {},
     "output_type": "execute_result"
    }
   ],
   "source": [
    "cos_sim = calculate_cosine_similarity(sent_vector_1, sent_vector_2)\n",
    "cos_sim # Since the value is close to one the sentences are mostly similar"
   ]
  },
  {
   "cell_type": "code",
   "execution_count": 36,
   "id": "53e8367c",
   "metadata": {},
   "outputs": [
    {
     "data": {
      "image/png": "[encoded data removed]",
      "text/plain": [
       "<Figure size 640x480 with 2 Axes>"
      ]
     },
     "metadata": {},
     "output_type": "display_data"
    }
   ],
   "source": [
    "#similarity matrix to draw heatmap to see word level similarity\n",
    "word_embeddings_1 = np.array(create_list_of_vectors(text1_tokens))\n",
    "word_embeddings_2 = np.array(create_list_of_vectors(text2_tokens))\n",
    "\n",
    "similarity_matrix = np.dot(word_embeddings_1,word_embeddings_2.T)\n",
    "plt.imshow(similarity_matrix, cmap='YlGnBu', interpolation='nearest')\n",
    "plt.colorbar()\n",
    "plt.xlabel(\"Words in Sentence 2\")\n",
    "plt.ylabel(\"Words in Sentence 1\")\n",
    "plt.xticks(range(len(text1_tokens)), text1_tokens)\n",
    "plt.yticks(range(len(text2_tokens)), text2_tokens)\n",
    "plt.title(\"Word Embedding Similarity Heatmap\")\n",
    "plt.show()\n"
   ]
  },
  {
   "cell_type": "markdown",
   "id": "cb431e00",
   "metadata": {},
   "source": [
    "# Smooth Inverse Frequency"
   ]
  },
  {
   "cell_type": "markdown",
   "id": "0fdd4fb5",
   "metadata": {},
   "source": [
    "**Instead of taking average of the word embeddings in the sentence, which gives equal weightage to every word, WHat we can do instead is do a weighted average by discounting the weightts of word that occur too frquently in the corpus and hence giving more importance to words that are rare.** <br>\n",
    "\n",
    "**Every word embedding is weighted by a/(a + p(w)), where a is a parameter that is typically set to 0.001 and p(w) is the estimated frequency of the word in a reference corpus.** <br>\n",
    "\n",
    "**Common component removal: SIF computes the principal component of the resulting embeddings for a set of sentences. It then subtracts from these sentence embeddings their projections on their first principal component. This should remove variation related to frequency and syntax that is less relevant semantically.**"
   ]
  },
  {
   "cell_type": "markdown",
   "id": "d14bd07c",
   "metadata": {},
   "source": [
    "# Latent Semantic Indexing"
   ]
  },
  {
   "cell_type": "markdown",
   "id": "09cc8555",
   "metadata": {},
   "source": [
    "## Implementing Latent Semantic indexing"
   ]
  },
  {
   "cell_type": "code",
   "execution_count": 116,
   "id": "f3aebe0c",
   "metadata": {},
   "outputs": [],
   "source": [
    "#let's consider 3 documents and one query. We will try to find the document which is most relevant to query.\n",
    "\n",
    "d1 = \"I got gold earrings\"\n",
    "d2 = \"Delivery of gold arrived in a silver truck\"\n",
    "d3 = \"I like silver more than gold rings\"\n",
    "\n",
    "q = \"gold silver truck\""
   ]
  },
  {
   "cell_type": "code",
   "execution_count": 117,
   "id": "1d4d78d5",
   "metadata": {},
   "outputs": [
    {
     "name": "stdout",
     "output_type": "stream",
     "text": [
      "[[0 1 0]\n",
      " [0 1 0]\n",
      " [1 0 0]\n",
      " [1 1 1]\n",
      " [1 0 0]\n",
      " [0 1 0]\n",
      " [0 0 1]\n",
      " [0 0 1]\n",
      " [0 1 0]\n",
      " [0 0 1]\n",
      " [0 1 1]\n",
      " [0 0 1]\n",
      " [0 1 0]]\n"
     ]
    }
   ],
   "source": [
    "#createing a Term-Document matrix\n",
    "from sklearn.feature_extraction.text import CountVectorizer\n",
    "\n",
    "corpus = [d1,d2,d3]\n",
    "vectorizer = CountVectorizer()\n",
    "X = vectorizer.fit_transform(corpus)\n",
    "term_doc_matrix = X.toarray().T\n",
    "print(term_doc_matrix)"
   ]
  },
  {
   "cell_type": "code",
   "execution_count": 118,
   "id": "38f1a1f5",
   "metadata": {},
   "outputs": [
    {
     "name": "stdout",
     "output_type": "stream",
     "text": [
      "Term - Conept Matrix [[-0.25520074  0.30166884  0.07598194 -0.6847778  -0.45345231 -0.08104173\n",
      "  -0.15028376 -0.15028376 -0.08104173 -0.15028376 -0.23132549 -0.15028376\n",
      "  -0.08104173]\n",
      " [-0.25520074  0.30166884  0.07598194  0.08751417  0.32094476 -0.42112142\n",
      "   0.18769082  0.18769082 -0.42112142  0.18769082 -0.23343059  0.18769082\n",
      "  -0.42112142]\n",
      " [-0.07772591 -0.04215812 -0.59505137 -0.13367363 -0.41725238 -0.01837221\n",
      "   0.30195096  0.30195096 -0.01837221  0.30195096  0.28357875  0.30195096\n",
      "  -0.01837221]\n",
      " [-0.53600387 -0.10345136 -0.3868032   0.5317523  -0.23427055 -0.03649501\n",
      "  -0.19748214 -0.19748214 -0.03649501 -0.19748214 -0.23397715 -0.19748214\n",
      "  -0.03649501]\n",
      " [-0.07772591 -0.04215812 -0.59505137 -0.39807867  0.65152293  0.05486722\n",
      "  -0.10446882 -0.10446882  0.05486722 -0.10446882 -0.04960159 -0.10446882\n",
      "   0.05486722]\n",
      " [-0.25520074  0.30166884  0.07598194  0.04522679  0.08419052  0.87667346\n",
      "   0.0843628   0.0843628  -0.12332654  0.0843628  -0.03896373  0.0843628\n",
      "  -0.12332654]\n",
      " [-0.20307723 -0.36296208  0.13226624 -0.11539582  0.03001601  0.03196431\n",
      "   0.82262387 -0.17737613  0.03196431 -0.17737613 -0.14541182 -0.17737613\n",
      "   0.03196431]\n",
      " [-0.20307723 -0.36296208  0.13226624 -0.11539582  0.03001601  0.03196431\n",
      "  -0.17737613  0.82262387  0.03196431 -0.17737613 -0.14541182 -0.17737613\n",
      "   0.03196431]\n",
      " [-0.25520074  0.30166884  0.07598194  0.04522679  0.08419052 -0.12332654\n",
      "   0.0843628   0.0843628   0.87667346  0.0843628  -0.03896373  0.0843628\n",
      "  -0.12332654]\n",
      " [-0.20307723 -0.36296208  0.13226624 -0.11539582  0.03001601  0.03196431\n",
      "  -0.17737613 -0.17737613  0.03196431  0.82262387 -0.14541182 -0.17737613\n",
      "   0.03196431]\n",
      " [-0.45827797 -0.06129324  0.20824818 -0.07016903  0.11420653 -0.09136223\n",
      "  -0.09301333 -0.09301333 -0.09136223 -0.09301333  0.81562444 -0.09301333\n",
      "  -0.09136223]\n",
      " [-0.20307723 -0.36296208  0.13226624 -0.11539582  0.03001601  0.03196431\n",
      "  -0.17737613 -0.17737613  0.03196431 -0.17737613 -0.14541182  0.82262387\n",
      "   0.03196431]\n",
      " [-0.25520074  0.30166884  0.07598194  0.04522679  0.08419052 -0.12332654\n",
      "   0.0843628   0.0843628  -0.12332654  0.0843628  -0.03896373  0.0843628\n",
      "   0.87667346]]\n",
      "\n",
      "Concept Weightage Matrix [2.98262928 2.11042395 1.62789228]\n",
      "\n",
      "Document Concept Matrix [[-0.23182757 -0.76116919 -0.60570409]\n",
      " [-0.0889715   0.63664915 -0.76600387]\n",
      " [-0.96867954  0.12369041  0.21531519]]\n",
      "\n"
     ]
    }
   ],
   "source": [
    "#Doing SVD Decomposition of term_doc_matrix\n",
    "\n",
    "U, s, VT = np.linalg.svd(term_doc_matrix)\n",
    "\n",
    "print(\"Term - Conept Matrix\", U, end = \"\\n\\n\")\n",
    "print(\"Concept Weightage Matrix\", s, end = \"\\n\\n\")\n",
    "print(\"Document Concept Matrix\", VT, end = \"\\n\\n\")"
   ]
  },
  {
   "cell_type": "markdown",
   "id": "fc598080",
   "metadata": {},
   "source": [
    "#### By doing Rank-2 Approximation, we can discard the less important weightage, i.e. last vector. Let's discard:<br>\n",
    "    1. 3rd Column of U \n",
    "    2. 3rd Singular Value of s \n",
    "    3. 3rd Row of VT"
   ]
  },
  {
   "cell_type": "code",
   "execution_count": 119,
   "id": "a0a7de86",
   "metadata": {},
   "outputs": [],
   "source": [
    "d1_concept_vector, d2_concept_vector,d3_concept_vector = VT[0], VT[1], VT[2]\n"
   ]
  },
  {
   "cell_type": "code",
   "execution_count": 120,
   "id": "2b73e3c6",
   "metadata": {},
   "outputs": [],
   "source": [
    "#cONSIDERING ONLY FIRST THREE eIGEN Vectors\n",
    "U = [each[:3] for each in U]\n"
   ]
  },
  {
   "cell_type": "code",
   "execution_count": 121,
   "id": "4471494e",
   "metadata": {},
   "outputs": [],
   "source": [
    "q_vector = vectorizer.transform([q]).toarray()"
   ]
  },
  {
   "cell_type": "code",
   "execution_count": 122,
   "id": "68657fcd",
   "metadata": {},
   "outputs": [
    {
     "data": {
      "text/plain": [
       "array([[0, 0, 0, 1, 0, 0, 0, 0, 0, 0, 1, 0, 1]], dtype=int64)"
      ]
     },
     "execution_count": 122,
     "metadata": {},
     "output_type": "execute_result"
    }
   ],
   "source": [
    "q_vector"
   ]
  },
  {
   "cell_type": "code",
   "execution_count": 123,
   "id": "e00c5a27",
   "metadata": {},
   "outputs": [],
   "source": [
    "#To take inverse, we are transposing ,atrix here as both are essentially the same for Orthogonal Matrix\n",
    "q_vector_weight = np.matmul(q_vector,U)"
   ]
  },
  {
   "cell_type": "code",
   "execution_count": 124,
   "id": "86b27508",
   "metadata": {},
   "outputs": [
    {
     "data": {
      "text/plain": [
       "(1, 3)"
      ]
     },
     "execution_count": 124,
     "metadata": {},
     "output_type": "execute_result"
    }
   ],
   "source": [
    "q_vector_weight.shape"
   ]
  },
  {
   "cell_type": "code",
   "execution_count": 125,
   "id": "5ef4b0d8",
   "metadata": {},
   "outputs": [
    {
     "data": {
      "text/plain": [
       "(3, 3)"
      ]
     },
     "execution_count": 125,
     "metadata": {},
     "output_type": "execute_result"
    }
   ],
   "source": [
    "s_transpose = np.diag(s).T\n",
    "s_transpose.shape"
   ]
  },
  {
   "cell_type": "code",
   "execution_count": 126,
   "id": "67758b83",
   "metadata": {},
   "outputs": [],
   "source": [
    "q_vector_weight = np.matmul(q_vector_weight,s_transpose)                         "
   ]
  },
  {
   "cell_type": "code",
   "execution_count": 127,
   "id": "348dd093",
   "metadata": {},
   "outputs": [
    {
     "data": {
      "text/plain": [
       "array([[-3.72674332,  0.28896822, -0.16697793]])"
      ]
     },
     "execution_count": 127,
     "metadata": {},
     "output_type": "execute_result"
    }
   ],
   "source": [
    "q_vector_weight"
   ]
  },
  {
   "cell_type": "code",
   "execution_count": 128,
   "id": "2d60d0cf",
   "metadata": {},
   "outputs": [
    {
     "name": "stdout",
     "output_type": "stream",
     "text": [
      "[0.19914900372638975, 0.17196953318557615, 0.9647622266500288]\n"
     ]
    }
   ],
   "source": [
    "#Now, let's calculate cosine similarity for each document\n",
    "cos_sim = [calculate_cosine_similarity(q_vector_weight[0],each) for each in VT]\n",
    "print(cos_sim)"
   ]
  }
 ],
 "metadata": {
  "kernelspec": {
   "display_name": "Python 3 (ipykernel)",
   "language": "python",
   "name": "python3"
  },
  "language_info": {
   "codemirror_mode": {
    "name": "ipython",
    "version": 3
   },
   "file_extension": ".py",
   "mimetype": "text/x-python",
   "name": "python",
   "nbconvert_exporter": "python",
   "pygments_lexer": "ipython3",
   "version": "3.11.3"
  }
 },
 "nbformat": 4,
 "nbformat_minor": 5
}
